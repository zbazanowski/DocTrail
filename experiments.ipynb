{
 "cells": [
  {
   "cell_type": "code",
   "execution_count": 9,
   "metadata": {},
   "outputs": [],
   "source": [
    "import os\n",
    "\n",
    "ANNOTATION_ROOT = \"./Projects\""
   ]
  },
  {
   "cell_type": "code",
   "execution_count": 12,
   "metadata": {},
   "outputs": [
    {
     "name": "stdout",
     "output_type": "stream",
     "text": [
      "-- root -- ./Projects\n",
      "-- iter dirs -- ['.a_txt', '.b_txt'] -- files -- ['a.txt', 'b.txt']\n",
      "-- modf dirs -- [] -- files -- ['a.txt', 'b.txt']\n",
      "a.txt\n",
      "b.txt\n"
     ]
    }
   ],
   "source": [
    "for root, dirs, files in os.walk(ANNOTATION_ROOT):\n",
    "    print('-- root --', root)\n",
    "    # Exclude hidden folders (starting with a dot)\n",
    "    print('-- iter dirs --', dirs, '-- files --', files)\n",
    "    dirs[:] = [d for d in dirs if not d.startswith(\".\")]\n",
    "    print('-- modf dirs --', dirs, '-- files --', files)\n",
    "    \n",
    "    for file in files:\n",
    "        # Exclude hidden files (starting with a dot)\n",
    "        print(file)\n",
    "        #if file.startswith(\".\"):\n",
    "        #    continue\n",
    "        "
   ]
  },
  {
   "cell_type": "code",
   "execution_count": null,
   "metadata": {},
   "outputs": [],
   "source": []
  }
 ],
 "metadata": {
  "kernelspec": {
   "display_name": "Python 3",
   "language": "python",
   "name": "python3"
  },
  "language_info": {
   "codemirror_mode": {
    "name": "ipython",
    "version": 3
   },
   "file_extension": ".py",
   "mimetype": "text/x-python",
   "name": "python",
   "nbconvert_exporter": "python",
   "pygments_lexer": "ipython3",
   "version": "3.12.1"
  }
 },
 "nbformat": 4,
 "nbformat_minor": 2
}
